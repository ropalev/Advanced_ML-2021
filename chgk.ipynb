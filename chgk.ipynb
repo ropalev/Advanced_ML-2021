{
 "cells": [
  {
   "cell_type": "code",
   "execution_count": 1,
   "metadata": {},
   "outputs": [],
   "source": [
    "import pandas as pd\n",
    "import numpy as np\n",
    "import pickle\n",
    "from tqdm import tqdm\n",
    "import seaborn as sns\n",
    "from sklearn.linear_model import LinearRegression, LogisticRegression\n",
    "from sklearn.metrics import mean_squared_error, roc_auc_score\n",
    "from sklearn.preprocessing import Normalizer\n",
    "import matplotlib.pyplot as plt\n",
    "import requests\n",
    "\n",
    "from scipy import sparse\n",
    "import scipy.stats as sps"
   ]
  },
  {
   "cell_type": "markdown",
   "metadata": {},
   "source": [
    "### Задание 1\n",
    "Прочитайте и проанализируйте данные, выберите турниры, в которых есть данные о составах команд и повопросных результатах (поле mask в results.pkl). "
   ]
  },
  {
   "cell_type": "code",
   "execution_count": 2,
   "metadata": {},
   "outputs": [],
   "source": [
    "YEAR_TRAIN, YEAR_TEST = 2019, 2020\n",
    "RANDOM_STATE = 42"
   ]
  },
  {
   "cell_type": "code",
   "execution_count": 12,
   "metadata": {},
   "outputs": [],
   "source": [
    "with open('chgk/players.pkl', 'rb') as file:\n",
    "    players = pickle.load(file)\n",
    "with open('chgk/results.pkl', 'rb') as file:\n",
    "    results = pickle.load(file)\n",
    "with open('chgk/tournaments.pkl', 'rb') as file:\n",
    "    tournaments = pickle.load(file)\n",
    "with open('positions.pickle', 'rb') as file:\n",
    "    positions = pickle.load(file)"
   ]
  },
  {
   "cell_type": "code",
   "execution_count": 4,
   "metadata": {},
   "outputs": [],
   "source": [
    "df_tournaments = pd.DataFrame.from_dict(tournaments, orient='index')"
   ]
  },
  {
   "cell_type": "code",
   "execution_count": 5,
   "metadata": {},
   "outputs": [],
   "source": [
    "df_players = pd.DataFrame.from_dict(players, orient='index')"
   ]
  },
  {
   "cell_type": "code",
   "execution_count": 8,
   "metadata": {},
   "outputs": [
    {
     "name": "stderr",
     "output_type": "stream",
     "text": [
      "100%|██████████| 5528/5528 [00:26<00:00, 208.43it/s]  \n"
     ]
    }
   ],
   "source": [
    "dates =[]\n",
    "players = {}\n",
    "\n",
    "q_id = 0\n",
    "for t_id in tqdm(df_tournaments.sort_values('dateStart').id): #отсортированый порядок для того чтобы запомнить последний рейтинг\n",
    "    if not results[t_id]:\n",
    "        continue\n",
    "    year = int(tournaments[t_id]['dateStart'][:4])\n",
    "    if year in [YEAR_TRAIN, YEAR_TEST]:\n",
    "        for team in results[t_id]:\n",
    "            if team.get('mask') and (('?' not in team['mask']) and ('X' not in team['mask'])):\n",
    "                for i, m in enumerate(team['mask']):\n",
    "                    for member in team['teamMembers']:\n",
    "                        data = dict()\n",
    "                        data['question_id'] = t_id*1000 + i # max(len(team['mask'])) == 500\n",
    "                        data['year'] = year\n",
    "                        data['team_id'] = team['team']['id']\n",
    "                        data['team_position'] = team['position']\n",
    "                        data['player_id'] = member['player']['id']\n",
    "                        data['player_rating'] = member['rating']\n",
    "                        data['answer'] = int(m)\n",
    "                        dates.append(data)\n",
    "                        players[member['player']['id']] = member['rating']\n",
    "#                   q_id += 1\n",
    "df = pd.DataFrame.from_dict(dates)"
   ]
  },
  {
   "cell_type": "code",
   "execution_count": 9,
   "metadata": {},
   "outputs": [],
   "source": [
    "map_q_id = {k:v for k,v in zip(df.question_id.unique(),[i for i in range(len(df.question_id.unique()))])}\n",
    "df.question_id = df.question_id.map(map_q_id)"
   ]
  },
  {
   "cell_type": "code",
   "execution_count": 11,
   "metadata": {},
   "outputs": [
    {
     "name": "stderr",
     "output_type": "stream",
     "text": [
      "100%|██████████| 5346/5346 [49:21<00:00,  1.81it/s]  \n"
     ]
    }
   ],
   "source": [
    "# positions = {}\n",
    "# for player in tqdm(df.player_id.unique()):\n",
    "#     url = 'https://rating.chgk.info/api/players/{}/rating/last'.format(player)\n",
    "#     position = 999999\n",
    "#     try:\n",
    "#         position = requests.get(url).json()['rating_position']\n",
    "#         position = int(position)\n",
    "#     except:\n",
    "#         pass\n",
    "#     positions[player] = position"
   ]
  },
  {
   "cell_type": "code",
   "execution_count": 13,
   "metadata": {},
   "outputs": [],
   "source": [
    "# позиция в топе ЧГК\n",
    "df['player_position'] = df.player_id.map(positions)"
   ]
  },
  {
   "cell_type": "code",
   "execution_count": 15,
   "metadata": {
    "scrolled": true
   },
   "outputs": [],
   "source": [
    "# Рейтинг игрока\n",
    "df['player_rating'] = df.player_id.map(players)"
   ]
  },
  {
   "cell_type": "markdown",
   "metadata": {},
   "source": [
    "#### Расчет сложности вопроса\n",
    "Количество правильных ответов на вопрос"
   ]
  },
  {
   "cell_type": "code",
   "execution_count": 16,
   "metadata": {},
   "outputs": [],
   "source": [
    "df['difficulty'] = 1 - df.groupby('question_id')['answer'].transform(pd.Series.mean)"
   ]
  },
  {
   "cell_type": "markdown",
   "metadata": {},
   "source": [
    "Распределение вопросов по сложности"
   ]
  },
  {
   "cell_type": "code",
   "execution_count": 17,
   "metadata": {},
   "outputs": [
    {
     "data": {
      "image/png": "[encoded data removed]",
      "text/plain": [
       "<Figure size 432x288 with 1 Axes>"
      ]
     },
     "metadata": {
      "needs_background": "light"
     },
     "output_type": "display_data"
    }
   ],
   "source": [
    "plt.hist(df['difficulty'],\n",
    "         bins = 100,\n",
    "        )\n",
    "plt.title('Распределение вопросов по сложности');"
   ]
  },
  {
   "cell_type": "markdown",
   "metadata": {},
   "source": [
    "Удалим игроков которые ответили меньше чем на 1000 вопросов  \n",
    "Не стоит пока этого делать"
   ]
  },
  {
   "cell_type": "code",
   "execution_count": 459,
   "metadata": {},
   "outputs": [],
   "source": [
    "# df = df_questions[df_questions.groupby('player_id')['answer'].transform(len) >= 1000]"
   ]
  },
  {
   "cell_type": "markdown",
   "metadata": {},
   "source": [
    "### Задание 2\n",
    "Постройте baseline-модель на основе линейной или логистической регрессии, которая будет обучать рейтинг-лист игроков. Замечания и подсказки:"
   ]
  },
  {
   "cell_type": "code",
   "execution_count": 18,
   "metadata": {},
   "outputs": [
    {
     "data": {
      "text/html": [
       "<div>\n",
       "<style scoped>\n",
       "    .dataframe tbody tr th:only-of-type {\n",
       "        vertical-align: middle;\n",
       "    }\n",
       "\n",
       "    .dataframe tbody tr th {\n",
       "        vertical-align: top;\n",
       "    }\n",
       "\n",
       "    .dataframe thead th {\n",
       "        text-align: right;\n",
       "    }\n",
       "</style>\n",
       "<table border=\"1\" class=\"dataframe\">\n",
       "  <thead>\n",
       "    <tr style=\"text-align: right;\">\n",
       "      <th></th>\n",
       "      <th>question_id</th>\n",
       "      <th>year</th>\n",
       "      <th>team_id</th>\n",
       "      <th>team_position</th>\n",
       "      <th>player_id</th>\n",
       "      <th>player_rating</th>\n",
       "      <th>answer</th>\n",
       "      <th>player_position</th>\n",
       "      <th>difficulty</th>\n",
       "    </tr>\n",
       "  </thead>\n",
       "  <tbody>\n",
       "    <tr>\n",
       "      <th>0</th>\n",
       "      <td>0</td>\n",
       "      <td>2019</td>\n",
       "      <td>3730</td>\n",
       "      <td>1.5</td>\n",
       "      <td>117</td>\n",
       "      <td>{'id': 117, 'name': 'Марина', 'patronymic': 'Г...</td>\n",
       "      <td>1</td>\n",
       "      <td>1176.0</td>\n",
       "      <td>0.325116</td>\n",
       "    </tr>\n",
       "    <tr>\n",
       "      <th>1</th>\n",
       "      <td>0</td>\n",
       "      <td>2019</td>\n",
       "      <td>3730</td>\n",
       "      <td>1.5</td>\n",
       "      <td>87865</td>\n",
       "      <td>{'id': 87865, 'name': 'Константин', 'patronymi...</td>\n",
       "      <td>1</td>\n",
       "      <td>1028.0</td>\n",
       "      <td>0.325116</td>\n",
       "    </tr>\n",
       "    <tr>\n",
       "      <th>2</th>\n",
       "      <td>0</td>\n",
       "      <td>2019</td>\n",
       "      <td>3730</td>\n",
       "      <td>1.5</td>\n",
       "      <td>30672</td>\n",
       "      <td>{'id': 30672, 'name': 'Татьяна', 'patronymic':...</td>\n",
       "      <td>1</td>\n",
       "      <td>1291.0</td>\n",
       "      <td>0.325116</td>\n",
       "    </tr>\n",
       "    <tr>\n",
       "      <th>3</th>\n",
       "      <td>0</td>\n",
       "      <td>2019</td>\n",
       "      <td>3730</td>\n",
       "      <td>1.5</td>\n",
       "      <td>35442</td>\n",
       "      <td>{'id': 35442, 'name': 'Айрат', 'patronymic': '...</td>\n",
       "      <td>1</td>\n",
       "      <td>1521.0</td>\n",
       "      <td>0.325116</td>\n",
       "    </tr>\n",
       "    <tr>\n",
       "      <th>4</th>\n",
       "      <td>0</td>\n",
       "      <td>2019</td>\n",
       "      <td>3730</td>\n",
       "      <td>1.5</td>\n",
       "      <td>63465</td>\n",
       "      <td>{'id': 63465, 'name': 'Александр', 'patronymic...</td>\n",
       "      <td>1</td>\n",
       "      <td>2050.0</td>\n",
       "      <td>0.325116</td>\n",
       "    </tr>\n",
       "  </tbody>\n",
       "</table>\n",
       "</div>"
      ],
      "text/plain": [
       "   question_id  year  team_id  team_position  player_id  \\\n",
       "0            0  2019     3730            1.5        117   \n",
       "1            0  2019     3730            1.5      87865   \n",
       "2            0  2019     3730            1.5      30672   \n",
       "3            0  2019     3730            1.5      35442   \n",
       "4            0  2019     3730            1.5      63465   \n",
       "\n",
       "                                       player_rating  answer  player_position  \\\n",
       "0  {'id': 117, 'name': 'Марина', 'patronymic': 'Г...       1           1176.0   \n",
       "1  {'id': 87865, 'name': 'Константин', 'patronymi...       1           1028.0   \n",
       "2  {'id': 30672, 'name': 'Татьяна', 'patronymic':...       1           1291.0   \n",
       "3  {'id': 35442, 'name': 'Айрат', 'patronymic': '...       1           1521.0   \n",
       "4  {'id': 63465, 'name': 'Александр', 'patronymic...       1           2050.0   \n",
       "\n",
       "   difficulty  \n",
       "0    0.325116  \n",
       "1    0.325116  \n",
       "2    0.325116  \n",
       "3    0.325116  \n",
       "4    0.325116  "
      ]
     },
     "execution_count": 18,
     "metadata": {},
     "output_type": "execute_result"
    }
   ],
   "source": [
    "df.head()"
   ]
  },
  {
   "cell_type": "code",
   "execution_count": 33,
   "metadata": {},
   "outputs": [
    {
     "data": {
      "text/plain": [
       "0.5650430048110444"
      ]
     },
     "execution_count": 33,
     "metadata": {},
     "output_type": "execute_result"
    }
   ],
   "source": [
    "(df['difficulty'] / df['difficulty'].shape[0]).sum()"
   ]
  },
  {
   "cell_type": "code",
   "execution_count": 36,
   "metadata": {},
   "outputs": [
    {
     "data": {
      "image/png": "[encoded data removed]",
      "text/plain": [
       "<Figure size 432x288 with 1 Axes>"
      ]
     },
     "metadata": {
      "needs_background": "light"
     },
     "output_type": "display_data"
    }
   ],
   "source": [
    "w_dist = plt.hist(df['difficulty'],\n",
    "                     bins = 100,\n",
    "                     weights=df['difficulty'] / df['difficulty'].shape[0] # Вес от сложности\n",
    "                    )"
   ]
  },
  {
   "cell_type": "code",
   "execution_count": 37,
   "metadata": {},
   "outputs": [],
   "source": [
    "df1000 = df[df.groupby('player_id')['answer'].transform(len) >= 1000]"
   ]
  },
  {
   "cell_type": "code",
   "execution_count": 38,
   "metadata": {},
   "outputs": [
    {
     "data": {
      "image/png": "[encoded data removed]",
      "text/plain": [
       "<Figure size 432x288 with 1 Axes>"
      ]
     },
     "metadata": {
      "needs_background": "light"
     },
     "output_type": "display_data"
    }
   ],
   "source": [
    "w_dist = plt.hist(df1000['difficulty'],\n",
    "         bins = 100,\n",
    "         weights=df1000['difficulty'] / df1000['difficulty'].shape[0],\n",
    "        );"
   ]
  },
  {
   "cell_type": "code",
   "execution_count": 39,
   "metadata": {},
   "outputs": [
    {
     "name": "stderr",
     "output_type": "stream",
     "text": [
      "100%|██████████| 5346/5346 [02:05<00:00, 42.44it/s]\n"
     ]
    }
   ],
   "source": [
    "rating = {}\n",
    "rating_coef = {}\n",
    "players = df1000.player_id.unique()\n",
    "difficulty = w_dist[1][1:].reshape(-1, 1)\n",
    "for player in tqdm(players):\n",
    "    log_reg = LogisticRegression()\n",
    "    log_reg.fit(df1000[df1000.player_id == player].loc[:,'difficulty'].values.reshape(-1,1),\n",
    "                df1000[df1000.player_id == player].loc[:,'answer'])\n",
    "    rating_coef[player] = log_reg.coef_[0][0]\n",
    "    rating[player] = np.dot(log_reg.predict_proba(difficulty)[:, 1], w_dist[0])"
   ]
  },
  {
   "cell_type": "code",
   "execution_count": 40,
   "metadata": {},
   "outputs": [
    {
     "name": "stderr",
     "output_type": "stream",
     "text": [
      "<ipython-input-40-f16d7c02ae58>:1: SettingWithCopyWarning: \n",
      "A value is trying to be set on a copy of a slice from a DataFrame.\n",
      "Try using .loc[row_indexer,col_indexer] = value instead\n",
      "\n",
      "See the caveats in the documentation: https://pandas.pydata.org/pandas-docs/stable/user_guide/indexing.html#returning-a-view-versus-a-copy\n",
      "  df1000['player_rating_calc'] = df.player_id.map(rating)\n"
     ]
    }
   ],
   "source": [
    "df1000['player_rating_calc'] = df.player_id.map(rating)"
   ]
  },
  {
   "cell_type": "code",
   "execution_count": 41,
   "metadata": {},
   "outputs": [
    {
     "name": "stderr",
     "output_type": "stream",
     "text": [
      "<ipython-input-41-2870ced5eb0b>:1: SettingWithCopyWarning: \n",
      "A value is trying to be set on a copy of a slice from a DataFrame.\n",
      "Try using .loc[row_indexer,col_indexer] = value instead\n",
      "\n",
      "See the caveats in the documentation: https://pandas.pydata.org/pandas-docs/stable/user_guide/indexing.html#returning-a-view-versus-a-copy\n",
      "  df1000['player_rating_calc_coef'] = df.player_id.map(rating_coef)\n"
     ]
    }
   ],
   "source": [
    "df1000['player_rating_calc_coef'] = df.player_id.map(rating_coef)"
   ]
  },
  {
   "cell_type": "code",
   "execution_count": 44,
   "metadata": {},
   "outputs": [
    {
     "data": {
      "image/png": "[encoded data removed]",
      "text/plain": [
       "<Figure size 432x288 with 1 Axes>"
      ]
     },
     "metadata": {
      "needs_background": "light"
     },
     "output_type": "display_data"
    }
   ],
   "source": [
    "plt.hist(df1000.player_rating_calc,bins=50,density=True);"
   ]
  },
  {
   "cell_type": "code",
   "execution_count": 45,
   "metadata": {},
   "outputs": [
    {
     "data": {
      "image/png": "[encoded data removed]",
      "text/plain": [
       "<Figure size 432x288 with 1 Axes>"
      ]
     },
     "metadata": {
      "needs_background": "light"
     },
     "output_type": "display_data"
    }
   ],
   "source": [
    "plt.hist(df1000.player_rating_calc_coef,bins=50,density=True); "
   ]
  },
  {
   "cell_type": "code",
   "execution_count": 46,
   "metadata": {},
   "outputs": [],
   "source": [
    "df_to_players = df1000.loc[:,['player_id', 'player_position', 'player_rating_calc', 'player_rating_calc_coef']].drop_duplicates()"
   ]
  },
  {
   "cell_type": "code",
   "execution_count": 47,
   "metadata": {},
   "outputs": [],
   "source": [
    "df_players = pd.merge(df_players,\n",
    "         df_to_players,\n",
    "         left_on='id',\n",
    "         right_on='player_id',\n",
    "        )\n",
    "df_players.drop('player_id',axis=1,inplace=True)"
   ]
  },
  {
   "cell_type": "code",
   "execution_count": 48,
   "metadata": {},
   "outputs": [
    {
     "data": {
      "text/html": [
       "<div>\n",
       "<style scoped>\n",
       "    .dataframe tbody tr th:only-of-type {\n",
       "        vertical-align: middle;\n",
       "    }\n",
       "\n",
       "    .dataframe tbody tr th {\n",
       "        vertical-align: top;\n",
       "    }\n",
       "\n",
       "    .dataframe thead th {\n",
       "        text-align: right;\n",
       "    }\n",
       "</style>\n",
       "<table border=\"1\" class=\"dataframe\">\n",
       "  <thead>\n",
       "    <tr style=\"text-align: right;\">\n",
       "      <th></th>\n",
       "      <th>id</th>\n",
       "      <th>name</th>\n",
       "      <th>patronymic</th>\n",
       "      <th>surname</th>\n",
       "      <th>player_position</th>\n",
       "      <th>player_rating_calc</th>\n",
       "      <th>player_rating_calc_coef</th>\n",
       "    </tr>\n",
       "  </thead>\n",
       "  <tbody>\n",
       "    <tr>\n",
       "      <th>1047</th>\n",
       "      <td>27403</td>\n",
       "      <td>Максим</td>\n",
       "      <td>Михайлович</td>\n",
       "      <td>Руссо</td>\n",
       "      <td>5.0</td>\n",
       "      <td>0.395960</td>\n",
       "      <td>-5.569328</td>\n",
       "    </tr>\n",
       "    <tr>\n",
       "      <th>154</th>\n",
       "      <td>4270</td>\n",
       "      <td>Александра</td>\n",
       "      <td>Владимировна</td>\n",
       "      <td>Брутер</td>\n",
       "      <td>6.0</td>\n",
       "      <td>0.395049</td>\n",
       "      <td>-5.428943</td>\n",
       "    </tr>\n",
       "    <tr>\n",
       "      <th>1103</th>\n",
       "      <td>28751</td>\n",
       "      <td>Иван</td>\n",
       "      <td>Николаевич</td>\n",
       "      <td>Семушин</td>\n",
       "      <td>3.0</td>\n",
       "      <td>0.390008</td>\n",
       "      <td>-5.550281</td>\n",
       "    </tr>\n",
       "    <tr>\n",
       "      <th>2495</th>\n",
       "      <td>87637</td>\n",
       "      <td>Антон</td>\n",
       "      <td>Владимирович</td>\n",
       "      <td>Саксонов</td>\n",
       "      <td>158.0</td>\n",
       "      <td>0.389297</td>\n",
       "      <td>-5.373665</td>\n",
       "    </tr>\n",
       "    <tr>\n",
       "      <th>1068</th>\n",
       "      <td>27822</td>\n",
       "      <td>Михаил</td>\n",
       "      <td>Владимирович</td>\n",
       "      <td>Савченков</td>\n",
       "      <td>2.0</td>\n",
       "      <td>0.378418</td>\n",
       "      <td>-5.697718</td>\n",
       "    </tr>\n",
       "    <tr>\n",
       "      <th>1170</th>\n",
       "      <td>30270</td>\n",
       "      <td>Сергей</td>\n",
       "      <td>Леонидович</td>\n",
       "      <td>Спешков</td>\n",
       "      <td>4.0</td>\n",
       "      <td>0.374724</td>\n",
       "      <td>-5.613956</td>\n",
       "    </tr>\n",
       "    <tr>\n",
       "      <th>1163</th>\n",
       "      <td>30152</td>\n",
       "      <td>Артём</td>\n",
       "      <td>Сергеевич</td>\n",
       "      <td>Сорожкин</td>\n",
       "      <td>1.0</td>\n",
       "      <td>0.373385</td>\n",
       "      <td>-5.749614</td>\n",
       "    </tr>\n",
       "    <tr>\n",
       "      <th>1829</th>\n",
       "      <td>56647</td>\n",
       "      <td>Наталья</td>\n",
       "      <td>Евгеньевна</td>\n",
       "      <td>Горелова</td>\n",
       "      <td>349.0</td>\n",
       "      <td>0.372971</td>\n",
       "      <td>-5.380099</td>\n",
       "    </tr>\n",
       "    <tr>\n",
       "      <th>668</th>\n",
       "      <td>18036</td>\n",
       "      <td>Михаил</td>\n",
       "      <td>Ильич</td>\n",
       "      <td>Левандовский</td>\n",
       "      <td>8.0</td>\n",
       "      <td>0.361507</td>\n",
       "      <td>-4.535756</td>\n",
       "    </tr>\n",
       "    <tr>\n",
       "      <th>682</th>\n",
       "      <td>18332</td>\n",
       "      <td>Александр</td>\n",
       "      <td>Витальевич</td>\n",
       "      <td>Либер</td>\n",
       "      <td>7.0</td>\n",
       "      <td>0.360686</td>\n",
       "      <td>-5.142142</td>\n",
       "    </tr>\n",
       "    <tr>\n",
       "      <th>4516</th>\n",
       "      <td>158679</td>\n",
       "      <td>Владислав</td>\n",
       "      <td>Васильевич</td>\n",
       "      <td>Бабинский</td>\n",
       "      <td>14778.0</td>\n",
       "      <td>0.359786</td>\n",
       "      <td>-4.427254</td>\n",
       "    </tr>\n",
       "    <tr>\n",
       "      <th>529</th>\n",
       "      <td>14786</td>\n",
       "      <td>Николай</td>\n",
       "      <td>Александрович</td>\n",
       "      <td>Коврижных</td>\n",
       "      <td>104.0</td>\n",
       "      <td>0.358808</td>\n",
       "      <td>-5.089888</td>\n",
       "    </tr>\n",
       "    <tr>\n",
       "      <th>992</th>\n",
       "      <td>26089</td>\n",
       "      <td>Ирина</td>\n",
       "      <td>Сергеевна</td>\n",
       "      <td>Прокофьева</td>\n",
       "      <td>65.0</td>\n",
       "      <td>0.356273</td>\n",
       "      <td>-4.893934</td>\n",
       "    </tr>\n",
       "    <tr>\n",
       "      <th>4514</th>\n",
       "      <td>158676</td>\n",
       "      <td>Олег</td>\n",
       "      <td>Вячеславович</td>\n",
       "      <td>Точило</td>\n",
       "      <td>14305.0</td>\n",
       "      <td>0.356073</td>\n",
       "      <td>-4.712270</td>\n",
       "    </tr>\n",
       "    <tr>\n",
       "      <th>2079</th>\n",
       "      <td>67268</td>\n",
       "      <td>Максим</td>\n",
       "      <td>Александрович</td>\n",
       "      <td>Кузнецов</td>\n",
       "      <td>1881.0</td>\n",
       "      <td>0.354652</td>\n",
       "      <td>-5.334328</td>\n",
       "    </tr>\n",
       "    <tr>\n",
       "      <th>779</th>\n",
       "      <td>20691</td>\n",
       "      <td>Станислав</td>\n",
       "      <td>Григорьевич</td>\n",
       "      <td>Мереминский</td>\n",
       "      <td>38.0</td>\n",
       "      <td>0.353929</td>\n",
       "      <td>-5.442766</td>\n",
       "    </tr>\n",
       "    <tr>\n",
       "      <th>1913</th>\n",
       "      <td>59934</td>\n",
       "      <td>Артём</td>\n",
       "      <td>Семёнович</td>\n",
       "      <td>Черней</td>\n",
       "      <td>1880.0</td>\n",
       "      <td>0.350858</td>\n",
       "      <td>-5.359727</td>\n",
       "    </tr>\n",
       "    <tr>\n",
       "      <th>1679</th>\n",
       "      <td>47545</td>\n",
       "      <td>Екатерина</td>\n",
       "      <td>Александровна</td>\n",
       "      <td>Кузнецова</td>\n",
       "      <td>1879.0</td>\n",
       "      <td>0.350307</td>\n",
       "      <td>-5.368969</td>\n",
       "    </tr>\n",
       "    <tr>\n",
       "      <th>4515</th>\n",
       "      <td>158677</td>\n",
       "      <td>Роман</td>\n",
       "      <td>Владимирович</td>\n",
       "      <td>Богуш</td>\n",
       "      <td>16388.0</td>\n",
       "      <td>0.349724</td>\n",
       "      <td>-4.419284</td>\n",
       "    </tr>\n",
       "    <tr>\n",
       "      <th>246</th>\n",
       "      <td>7008</td>\n",
       "      <td>Алексей</td>\n",
       "      <td>Владимирович</td>\n",
       "      <td>Гилёв</td>\n",
       "      <td>30.0</td>\n",
       "      <td>0.346558</td>\n",
       "      <td>-5.397563</td>\n",
       "    </tr>\n",
       "    <tr>\n",
       "      <th>221</th>\n",
       "      <td>6212</td>\n",
       "      <td>Юрий</td>\n",
       "      <td>Яковлевич</td>\n",
       "      <td>Выменец</td>\n",
       "      <td>12.0</td>\n",
       "      <td>0.344667</td>\n",
       "      <td>-4.925308</td>\n",
       "    </tr>\n",
       "    <tr>\n",
       "      <th>2220</th>\n",
       "      <td>74382</td>\n",
       "      <td>Михаил</td>\n",
       "      <td>Андреевич</td>\n",
       "      <td>Новосёлов</td>\n",
       "      <td>50.0</td>\n",
       "      <td>0.344566</td>\n",
       "      <td>-5.775547</td>\n",
       "    </tr>\n",
       "    <tr>\n",
       "      <th>877</th>\n",
       "      <td>23178</td>\n",
       "      <td>Елизавета</td>\n",
       "      <td>Сергеевна</td>\n",
       "      <td>Овдеенко</td>\n",
       "      <td>26.0</td>\n",
       "      <td>0.343874</td>\n",
       "      <td>-5.731430</td>\n",
       "    </tr>\n",
       "    <tr>\n",
       "      <th>377</th>\n",
       "      <td>10695</td>\n",
       "      <td>Иван</td>\n",
       "      <td>Николаевич</td>\n",
       "      <td>Ефремов</td>\n",
       "      <td>53.0</td>\n",
       "      <td>0.343485</td>\n",
       "      <td>-5.498323</td>\n",
       "    </tr>\n",
       "    <tr>\n",
       "      <th>746</th>\n",
       "      <td>19915</td>\n",
       "      <td>Александр</td>\n",
       "      <td>Валерьевич</td>\n",
       "      <td>Марков</td>\n",
       "      <td>51.0</td>\n",
       "      <td>0.342827</td>\n",
       "      <td>-5.576826</td>\n",
       "    </tr>\n",
       "    <tr>\n",
       "      <th>563</th>\n",
       "      <td>15595</td>\n",
       "      <td>Кристина</td>\n",
       "      <td>Олеговна</td>\n",
       "      <td>Кораблина</td>\n",
       "      <td>109.0</td>\n",
       "      <td>0.342702</td>\n",
       "      <td>-5.382113</td>\n",
       "    </tr>\n",
       "    <tr>\n",
       "      <th>908</th>\n",
       "      <td>23737</td>\n",
       "      <td>Андрей</td>\n",
       "      <td>Вячеславович</td>\n",
       "      <td>Островский</td>\n",
       "      <td>16.0</td>\n",
       "      <td>0.342685</td>\n",
       "      <td>-5.278732</td>\n",
       "    </tr>\n",
       "    <tr>\n",
       "      <th>618</th>\n",
       "      <td>16837</td>\n",
       "      <td>Наталья</td>\n",
       "      <td>Алексеевна</td>\n",
       "      <td>Кудряшова</td>\n",
       "      <td>23.0</td>\n",
       "      <td>0.342645</td>\n",
       "      <td>-5.623425</td>\n",
       "    </tr>\n",
       "    <tr>\n",
       "      <th>863</th>\n",
       "      <td>22799</td>\n",
       "      <td>Сергей</td>\n",
       "      <td>Игоревич</td>\n",
       "      <td>Николенко</td>\n",
       "      <td>10.0</td>\n",
       "      <td>0.342555</td>\n",
       "      <td>-5.888453</td>\n",
       "    </tr>\n",
       "    <tr>\n",
       "      <th>63</th>\n",
       "      <td>1585</td>\n",
       "      <td>Юлия</td>\n",
       "      <td>Сергеевна</td>\n",
       "      <td>Архангельская</td>\n",
       "      <td>60.0</td>\n",
       "      <td>0.341562</td>\n",
       "      <td>-5.338686</td>\n",
       "    </tr>\n",
       "  </tbody>\n",
       "</table>\n",
       "</div>"
      ],
      "text/plain": [
       "          id        name     patronymic        surname  player_position  \\\n",
       "1047   27403      Максим     Михайлович          Руссо              5.0   \n",
       "154     4270  Александра   Владимировна         Брутер              6.0   \n",
       "1103   28751        Иван     Николаевич        Семушин              3.0   \n",
       "2495   87637       Антон   Владимирович       Саксонов            158.0   \n",
       "1068   27822      Михаил   Владимирович      Савченков              2.0   \n",
       "1170   30270      Сергей     Леонидович        Спешков              4.0   \n",
       "1163   30152       Артём      Сергеевич       Сорожкин              1.0   \n",
       "1829   56647     Наталья     Евгеньевна       Горелова            349.0   \n",
       "668    18036      Михаил          Ильич   Левандовский              8.0   \n",
       "682    18332   Александр     Витальевич          Либер              7.0   \n",
       "4516  158679   Владислав     Васильевич      Бабинский          14778.0   \n",
       "529    14786     Николай  Александрович      Коврижных            104.0   \n",
       "992    26089       Ирина      Сергеевна     Прокофьева             65.0   \n",
       "4514  158676        Олег   Вячеславович         Точило          14305.0   \n",
       "2079   67268      Максим  Александрович       Кузнецов           1881.0   \n",
       "779    20691   Станислав    Григорьевич    Мереминский             38.0   \n",
       "1913   59934       Артём      Семёнович         Черней           1880.0   \n",
       "1679   47545   Екатерина  Александровна      Кузнецова           1879.0   \n",
       "4515  158677       Роман   Владимирович          Богуш          16388.0   \n",
       "246     7008     Алексей   Владимирович          Гилёв             30.0   \n",
       "221     6212        Юрий      Яковлевич        Выменец             12.0   \n",
       "2220   74382      Михаил      Андреевич      Новосёлов             50.0   \n",
       "877    23178   Елизавета      Сергеевна       Овдеенко             26.0   \n",
       "377    10695        Иван     Николаевич        Ефремов             53.0   \n",
       "746    19915   Александр     Валерьевич         Марков             51.0   \n",
       "563    15595    Кристина       Олеговна      Кораблина            109.0   \n",
       "908    23737      Андрей   Вячеславович     Островский             16.0   \n",
       "618    16837     Наталья     Алексеевна      Кудряшова             23.0   \n",
       "863    22799      Сергей       Игоревич      Николенко             10.0   \n",
       "63      1585        Юлия      Сергеевна  Архангельская             60.0   \n",
       "\n",
       "      player_rating_calc  player_rating_calc_coef  \n",
       "1047            0.395960                -5.569328  \n",
       "154             0.395049                -5.428943  \n",
       "1103            0.390008                -5.550281  \n",
       "2495            0.389297                -5.373665  \n",
       "1068            0.378418                -5.697718  \n",
       "1170            0.374724                -5.613956  \n",
       "1163            0.373385                -5.749614  \n",
       "1829            0.372971                -5.380099  \n",
       "668             0.361507                -4.535756  \n",
       "682             0.360686                -5.142142  \n",
       "4516            0.359786                -4.427254  \n",
       "529             0.358808                -5.089888  \n",
       "992             0.356273                -4.893934  \n",
       "4514            0.356073                -4.712270  \n",
       "2079            0.354652                -5.334328  \n",
       "779             0.353929                -5.442766  \n",
       "1913            0.350858                -5.359727  \n",
       "1679            0.350307                -5.368969  \n",
       "4515            0.349724                -4.419284  \n",
       "246             0.346558                -5.397563  \n",
       "221             0.344667                -4.925308  \n",
       "2220            0.344566                -5.775547  \n",
       "877             0.343874                -5.731430  \n",
       "377             0.343485                -5.498323  \n",
       "746             0.342827                -5.576826  \n",
       "563             0.342702                -5.382113  \n",
       "908             0.342685                -5.278732  \n",
       "618             0.342645                -5.623425  \n",
       "863             0.342555                -5.888453  \n",
       "63              0.341562                -5.338686  "
      ]
     },
     "execution_count": 48,
     "metadata": {},
     "output_type": "execute_result"
    }
   ],
   "source": [
    "df_players.sort_values('player_rating_calc',ascending=False).head(30)"
   ]
  },
  {
   "cell_type": "markdown",
   "metadata": {},
   "source": [
    "Топ 10 выгялдит более менее, топ 30 и топ 100 уже значительно хуже"
   ]
  },
  {
   "cell_type": "markdown",
   "metadata": {},
   "source": [
    "### Задача 3"
   ]
  },
  {
   "cell_type": "markdown",
   "metadata": {},
   "source": [
    "Качество рейтинг-системы оценивается качеством предсказаний результатов турниров. Но сами повопросные результаты наши модели предсказывать вряд ли смогут, ведь неизвестно, насколько сложными окажутся вопросы в будущих турнирах; да и не нужны эти предсказания сами по себе. Поэтому:"
   ]
  },
  {
   "cell_type": "markdown",
   "metadata": {},
   "source": [
    "предложите способ предсказать результаты нового турнира с известными составами, но неизвестными вопросами, в виде ранжирования команд;"
   ]
  },
  {
   "cell_type": "markdown",
   "metadata": {},
   "source": [
    "Cилу команд будем определять как совокупность силы ее игроков. И будем расчитывать ее как вероятность того что ни один из игроков не ответил на вопрос."
   ]
  },
  {
   "cell_type": "markdown",
   "metadata": {},
   "source": [
    "в качестве метрики качества на тестовом наборе давайте считать ранговые корреляции Спирмена и Кендалла (их можно взять в пакете scipy) между реальным ранжированием в результатах турнира и предсказанным моделью, усреднённые по тестовому множеству турниров"
   ]
  },
  {
   "cell_type": "code",
   "execution_count": 49,
   "metadata": {},
   "outputs": [],
   "source": [
    "test_df = df_tournaments[df_tournaments['dateStart'].map(lambda x: int(x[:4])) == 2020]"
   ]
  },
  {
   "cell_type": "code",
   "execution_count": 50,
   "metadata": {},
   "outputs": [
    {
     "data": {
      "text/html": [
       "<div>\n",
       "<style scoped>\n",
       "    .dataframe tbody tr th:only-of-type {\n",
       "        vertical-align: middle;\n",
       "    }\n",
       "\n",
       "    .dataframe tbody tr th {\n",
       "        vertical-align: top;\n",
       "    }\n",
       "\n",
       "    .dataframe thead th {\n",
       "        text-align: right;\n",
       "    }\n",
       "</style>\n",
       "<table border=\"1\" class=\"dataframe\">\n",
       "  <thead>\n",
       "    <tr style=\"text-align: right;\">\n",
       "      <th></th>\n",
       "      <th>id</th>\n",
       "      <th>name</th>\n",
       "      <th>patronymic</th>\n",
       "      <th>surname</th>\n",
       "      <th>player_position</th>\n",
       "      <th>player_rating_calc</th>\n",
       "      <th>player_rating_calc_coef</th>\n",
       "    </tr>\n",
       "  </thead>\n",
       "  <tbody>\n",
       "    <tr>\n",
       "      <th>0</th>\n",
       "      <td>15</td>\n",
       "      <td>Олег</td>\n",
       "      <td>Игоревич</td>\n",
       "      <td>Абарников</td>\n",
       "      <td>3255.0</td>\n",
       "      <td>0.142944</td>\n",
       "      <td>-4.978384</td>\n",
       "    </tr>\n",
       "    <tr>\n",
       "      <th>1</th>\n",
       "      <td>79</td>\n",
       "      <td>Саидкамол</td>\n",
       "      <td>Саидахатович</td>\n",
       "      <td>Абдуразаков</td>\n",
       "      <td>4667.0</td>\n",
       "      <td>0.182404</td>\n",
       "      <td>-4.437197</td>\n",
       "    </tr>\n",
       "    <tr>\n",
       "      <th>2</th>\n",
       "      <td>80</td>\n",
       "      <td>Виктор</td>\n",
       "      <td>Александрович</td>\n",
       "      <td>Абдураманов</td>\n",
       "      <td>1986.0</td>\n",
       "      <td>0.247050</td>\n",
       "      <td>-5.411615</td>\n",
       "    </tr>\n",
       "    <tr>\n",
       "      <th>3</th>\n",
       "      <td>82</td>\n",
       "      <td>Владимир</td>\n",
       "      <td>Юрьевич</td>\n",
       "      <td>Абдурахманов</td>\n",
       "      <td>6606.0</td>\n",
       "      <td>0.147442</td>\n",
       "      <td>-5.440365</td>\n",
       "    </tr>\n",
       "    <tr>\n",
       "      <th>4</th>\n",
       "      <td>117</td>\n",
       "      <td>Марина</td>\n",
       "      <td>Германовна</td>\n",
       "      <td>Аботурова</td>\n",
       "      <td>1176.0</td>\n",
       "      <td>0.240380</td>\n",
       "      <td>-6.103618</td>\n",
       "    </tr>\n",
       "  </tbody>\n",
       "</table>\n",
       "</div>"
      ],
      "text/plain": [
       "    id       name     patronymic       surname  player_position  \\\n",
       "0   15       Олег       Игоревич     Абарников           3255.0   \n",
       "1   79  Саидкамол   Саидахатович   Абдуразаков           4667.0   \n",
       "2   80     Виктор  Александрович   Абдураманов           1986.0   \n",
       "3   82   Владимир        Юрьевич  Абдурахманов           6606.0   \n",
       "4  117     Марина     Германовна     Аботурова           1176.0   \n",
       "\n",
       "   player_rating_calc  player_rating_calc_coef  \n",
       "0            0.142944                -4.978384  \n",
       "1            0.182404                -4.437197  \n",
       "2            0.247050                -5.411615  \n",
       "3            0.147442                -5.440365  \n",
       "4            0.240380                -6.103618  "
      ]
     },
     "execution_count": 50,
     "metadata": {},
     "output_type": "execute_result"
    }
   ],
   "source": [
    "df_players.head()"
   ]
  },
  {
   "cell_type": "code",
   "execution_count": 62,
   "metadata": {},
   "outputs": [
    {
     "name": "stderr",
     "output_type": "stream",
     "text": [
      " 24%|██▍       | 102/418 [00:18<00:54,  5.83it/s]/Users/out-opalev1-rs/opt/anaconda3/lib/python3.8/site-packages/scipy/stats/stats.py:4196: SpearmanRConstantInputWarning: An input array is constant; the correlation coefficent is not defined.\n",
      "  warnings.warn(SpearmanRConstantInputWarning())\n",
      " 56%|█████▋    | 236/418 [00:30<00:22,  8.12it/s]/Users/out-opalev1-rs/opt/anaconda3/lib/python3.8/site-packages/scipy/stats/stats.py:4196: SpearmanRConstantInputWarning: An input array is constant; the correlation coefficent is not defined.\n",
      "  warnings.warn(SpearmanRConstantInputWarning())\n",
      "100%|██████████| 418/418 [00:33<00:00, 12.66it/s]\n"
     ]
    }
   ],
   "source": [
    "id_players = set(df_players['id'].unique())\n",
    "spearman_corr = []\n",
    "kendall_corr =[]\n",
    "team_team = {}\n",
    "for t_id in tqdm(test_df['id'].values):\n",
    "    if results[t_id]:\n",
    "        if 'position' in results[t_id][0]:\n",
    "            team_position = []\n",
    "            predicted_team_position = []\n",
    "            for team in results[t_id]:\n",
    "                team_position.append(team['position'])\n",
    "                members = []\n",
    "                team_prob = 1\n",
    "                for player in team['teamMembers']:\n",
    "                    members.append(player['player']['id'])\n",
    "                #Предположение о том что у игроков команде примерно одинаковый уровень\n",
    "                mean_team_rating = df_players[df_players.id.isin(members)].player_rating_calc.mean()\n",
    "                # Если мы расчитали рейтинг игрока берем его, если нет берем средний по команде\n",
    "                for player in members:       \n",
    "                    if player in id_players:\n",
    "                        player_prob = df_players[df_players['id'] == player].player_rating_calc.values[0]\n",
    "                    else:\n",
    "                        player_prob = mean_team_rating\n",
    "                team_prob *= (1 - player_prob)\n",
    "                predicted_team_position.append(1 - team_prob)\n",
    "                team_team[team['team']['id']] = 1 - team_prob\n",
    "            spearman = np.abs(sps.spearmanr(np.array(predicted_team_position), np.array(team_position)))\n",
    "            kendall = np.abs(sps.kendalltau(np.array(predicted_team_position), np.array(team_position)))       \n",
    "            spearman_corr.append(spearman[0])\n",
    "            kendall_corr.append(kendall[0])\n",
    "            \n",
    "spearman_corr = [i for i in spearman_corr if ~np.isnan(i)]\n",
    "kendall_corr = [i for i in kendall_corr if ~np.isnan(i)]"
   ]
  },
  {
   "cell_type": "code",
   "execution_count": 64,
   "metadata": {},
   "outputs": [
    {
     "name": "stdout",
     "output_type": "stream",
     "text": [
      "Корреляция Спирмена, усредненная: 0.7516\n",
      "Корреляция Кендалла, усредненная: 0.6317\n"
     ]
    }
   ],
   "source": [
    "print('Корреляция Спирмена, усредненная: {:.4}'.format(np.mean(spearman_corr)))\n",
    "print('Корреляция Кендалла, усредненная: {:.4}'.format(np.mean(kendall_corr)))"
   ]
  },
  {
   "cell_type": "markdown",
   "metadata": {},
   "source": [
    "### Задача 4"
   ]
  },
  {
   "cell_type": "markdown",
   "metadata": {},
   "source": [
    "Теперь главное: ЧГК — это всё-таки командная игра. Поэтому:  \n",
    "предложите способ учитывать то, что на вопрос отвечают сразу несколько игроков; скорее всего, понадобятся скрытые переменные; не стесняйтесь делать упрощающие предположения, но теперь переменные “игрок X ответил на вопрос Y” при условии данных должны стать зависимыми для игроков одной и той же команды;  \n",
    "разработайте EM-схему для обучения этой модели, реализуйте её в коде;  \n",
    "обучите несколько итераций, убедитесь, что целевые метрики со временем растут (скорее всего, ненамного, но расти должны), выберите лучшую модель, используя целевые метрики.\n"
   ]
  },
  {
   "cell_type": "markdown",
   "metadata": {},
   "source": [
    "Скрытные переменые - вероятность команды ответить, вероятность ответа игрока(список?)"
   ]
  },
  {
   "cell_type": "markdown",
   "metadata": {},
   "source": [
    "Не осилил"
   ]
  }
 ],
 "metadata": {
  "kernelspec": {
   "display_name": "Python 3",
   "language": "python",
   "name": "python3"
  },
  "language_info": {
   "codemirror_mode": {
    "name": "ipython",
    "version": 3
   },
   "file_extension": ".py",
   "mimetype": "text/x-python",
   "name": "python",
   "nbconvert_exporter": "python",
   "pygments_lexer": "ipython3",
   "version": "3.8.5"
  }
 },
 "nbformat": 4,
 "nbformat_minor": 4
}
